{
 "cells": [
  {
   "cell_type": "code",
   "execution_count": 1,
   "id": "initial_id",
   "metadata": {
    "collapsed": true,
    "ExecuteTime": {
     "end_time": "2024-01-07T15:21:44.870789882Z",
     "start_time": "2024-01-07T15:21:44.492578806Z"
    }
   },
   "outputs": [],
   "source": [
    "import pandas as pd\n",
    "from matplotlib import pyplot as plt"
   ]
  },
  {
   "cell_type": "code",
   "outputs": [],
   "source": [
    "df = pd.read_csv(\"netflix_titles.csv\")"
   ],
   "metadata": {
    "collapsed": false,
    "ExecuteTime": {
     "end_time": "2024-01-07T15:16:33.059908715Z",
     "start_time": "2024-01-07T15:16:33.022383389Z"
    }
   },
   "id": "8a1c4c444b7e38f8",
   "execution_count": 8
  },
  {
   "cell_type": "code",
   "outputs": [
    {
     "data": {
      "text/plain": "  show_id     type                  title         director  \\\n0      s1    Movie   Dick Johnson Is Dead  Kirsten Johnson   \n1      s2  TV Show          Blood & Water              NaN   \n2      s3  TV Show              Ganglands  Julien Leclercq   \n3      s4  TV Show  Jailbirds New Orleans              NaN   \n4      s5  TV Show           Kota Factory              NaN   \n\n                                                cast        country  \\\n0                                                NaN  United States   \n1  Ama Qamata, Khosi Ngema, Gail Mabalane, Thaban...   South Africa   \n2  Sami Bouajila, Tracy Gotoas, Samuel Jouy, Nabi...            NaN   \n3                                                NaN            NaN   \n4  Mayur More, Jitendra Kumar, Ranjan Raj, Alam K...          India   \n\n           date_added  release_year rating   duration  \\\n0  September 25, 2021          2020  PG-13     90 min   \n1  September 24, 2021          2021  TV-MA  2 Seasons   \n2  September 24, 2021          2021  TV-MA   1 Season   \n3  September 24, 2021          2021  TV-MA   1 Season   \n4  September 24, 2021          2021  TV-MA  2 Seasons   \n\n                                           listed_in  \\\n0                                      Documentaries   \n1    International TV Shows, TV Dramas, TV Mysteries   \n2  Crime TV Shows, International TV Shows, TV Act...   \n3                             Docuseries, Reality TV   \n4  International TV Shows, Romantic TV Shows, TV ...   \n\n                                         description  \n0  As her father nears the end of his life, filmm...  \n1  After crossing paths at a party, a Cape Town t...  \n2  To protect his family from a powerful drug lor...  \n3  Feuds, flirtations and toilet talk go down amo...  \n4  In a city of coaching centers known to train I...  ",
      "text/html": "<div>\n<style scoped>\n    .dataframe tbody tr th:only-of-type {\n        vertical-align: middle;\n    }\n\n    .dataframe tbody tr th {\n        vertical-align: top;\n    }\n\n    .dataframe thead th {\n        text-align: right;\n    }\n</style>\n<table border=\"1\" class=\"dataframe\">\n  <thead>\n    <tr style=\"text-align: right;\">\n      <th></th>\n      <th>show_id</th>\n      <th>type</th>\n      <th>title</th>\n      <th>director</th>\n      <th>cast</th>\n      <th>country</th>\n      <th>date_added</th>\n      <th>release_year</th>\n      <th>rating</th>\n      <th>duration</th>\n      <th>listed_in</th>\n      <th>description</th>\n    </tr>\n  </thead>\n  <tbody>\n    <tr>\n      <th>0</th>\n      <td>s1</td>\n      <td>Movie</td>\n      <td>Dick Johnson Is Dead</td>\n      <td>Kirsten Johnson</td>\n      <td>NaN</td>\n      <td>United States</td>\n      <td>September 25, 2021</td>\n      <td>2020</td>\n      <td>PG-13</td>\n      <td>90 min</td>\n      <td>Documentaries</td>\n      <td>As her father nears the end of his life, filmm...</td>\n    </tr>\n    <tr>\n      <th>1</th>\n      <td>s2</td>\n      <td>TV Show</td>\n      <td>Blood &amp; Water</td>\n      <td>NaN</td>\n      <td>Ama Qamata, Khosi Ngema, Gail Mabalane, Thaban...</td>\n      <td>South Africa</td>\n      <td>September 24, 2021</td>\n      <td>2021</td>\n      <td>TV-MA</td>\n      <td>2 Seasons</td>\n      <td>International TV Shows, TV Dramas, TV Mysteries</td>\n      <td>After crossing paths at a party, a Cape Town t...</td>\n    </tr>\n    <tr>\n      <th>2</th>\n      <td>s3</td>\n      <td>TV Show</td>\n      <td>Ganglands</td>\n      <td>Julien Leclercq</td>\n      <td>Sami Bouajila, Tracy Gotoas, Samuel Jouy, Nabi...</td>\n      <td>NaN</td>\n      <td>September 24, 2021</td>\n      <td>2021</td>\n      <td>TV-MA</td>\n      <td>1 Season</td>\n      <td>Crime TV Shows, International TV Shows, TV Act...</td>\n      <td>To protect his family from a powerful drug lor...</td>\n    </tr>\n    <tr>\n      <th>3</th>\n      <td>s4</td>\n      <td>TV Show</td>\n      <td>Jailbirds New Orleans</td>\n      <td>NaN</td>\n      <td>NaN</td>\n      <td>NaN</td>\n      <td>September 24, 2021</td>\n      <td>2021</td>\n      <td>TV-MA</td>\n      <td>1 Season</td>\n      <td>Docuseries, Reality TV</td>\n      <td>Feuds, flirtations and toilet talk go down amo...</td>\n    </tr>\n    <tr>\n      <th>4</th>\n      <td>s5</td>\n      <td>TV Show</td>\n      <td>Kota Factory</td>\n      <td>NaN</td>\n      <td>Mayur More, Jitendra Kumar, Ranjan Raj, Alam K...</td>\n      <td>India</td>\n      <td>September 24, 2021</td>\n      <td>2021</td>\n      <td>TV-MA</td>\n      <td>2 Seasons</td>\n      <td>International TV Shows, Romantic TV Shows, TV ...</td>\n      <td>In a city of coaching centers known to train I...</td>\n    </tr>\n  </tbody>\n</table>\n</div>"
     },
     "execution_count": 9,
     "metadata": {},
     "output_type": "execute_result"
    }
   ],
   "source": [
    "df.head()"
   ],
   "metadata": {
    "collapsed": false,
    "ExecuteTime": {
     "end_time": "2024-01-07T15:16:33.105679039Z",
     "start_time": "2024-01-07T15:16:33.104073658Z"
    }
   },
   "id": "4f05b20c66c972fa",
   "execution_count": 9
  },
  {
   "cell_type": "code",
   "outputs": [
    {
     "data": {
      "text/plain": "Index(['show_id', 'type', 'title', 'director', 'cast', 'country', 'date_added',\n       'release_year', 'rating', 'duration', 'listed_in', 'description'],\n      dtype='object')"
     },
     "execution_count": 11,
     "metadata": {},
     "output_type": "execute_result"
    }
   ],
   "source": [
    "df.columns"
   ],
   "metadata": {
    "collapsed": false,
    "ExecuteTime": {
     "end_time": "2024-01-07T15:16:33.107224993Z",
     "start_time": "2024-01-07T15:16:33.104725035Z"
    }
   },
   "id": "733a2d102227d3df",
   "execution_count": 11
  },
  {
   "cell_type": "code",
   "outputs": [
    {
     "data": {
      "text/plain": "(8807, 12)"
     },
     "execution_count": 12,
     "metadata": {},
     "output_type": "execute_result"
    }
   ],
   "source": [
    "df.shape"
   ],
   "metadata": {
    "collapsed": false,
    "ExecuteTime": {
     "end_time": "2024-01-07T15:16:33.107764676Z",
     "start_time": "2024-01-07T15:16:33.104964653Z"
    }
   },
   "id": "1cf0b700dfb692f1",
   "execution_count": 12
  },
  {
   "cell_type": "code",
   "outputs": [],
   "source": [],
   "metadata": {
    "collapsed": false,
    "ExecuteTime": {
     "end_time": "2024-01-07T15:16:33.108110568Z",
     "start_time": "2024-01-07T15:16:33.105316743Z"
    }
   },
   "id": "ed80a9c1c7bf6327",
   "execution_count": 12
  }
 ],
 "metadata": {
  "kernelspec": {
   "display_name": "Python 3",
   "language": "python",
   "name": "python3"
  },
  "language_info": {
   "codemirror_mode": {
    "name": "ipython",
    "version": 2
   },
   "file_extension": ".py",
   "mimetype": "text/x-python",
   "name": "python",
   "nbconvert_exporter": "python",
   "pygments_lexer": "ipython2",
   "version": "2.7.6"
  }
 },
 "nbformat": 4,
 "nbformat_minor": 5
}
